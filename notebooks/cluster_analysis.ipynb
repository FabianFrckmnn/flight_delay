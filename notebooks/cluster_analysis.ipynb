{
 "cells": [
  {
   "cell_type": "code",
   "execution_count": null,
   "id": "initial_id",
   "metadata": {
    "collapsed": true
   },
   "outputs": [],
   "source": [
    "import pandas as pd\n",
    "import seaborn as sns\n",
    "import matplotlib.pyplot as plt\n",
    "\n",
    "from sklearn.preprocessing import StandardScaler\n",
    "from sklearn.cluster import KMeans"
   ]
  },
  {
   "cell_type": "code",
   "execution_count": null,
   "outputs": [],
   "source": [
    "data = pd.read_csv(r\"../data/cleaned_data.csv\")\n",
    "data"
   ],
   "metadata": {
    "collapsed": false
   },
   "id": "c920e61fee6b2e10"
  },
  {
   "cell_type": "code",
   "execution_count": null,
   "outputs": [],
   "source": [
    "# features = [\"DayOfWeekEncoded\", \"DepHour\", \"CRSArrHour\", \"Distance\", \"TaxiOut\", \"DepHour_DayOfWeek\", \"DepHour_UniqueCarrier\", \"CRSArrHour_DayOfWeek\", \"Origin_Dep_Count\", \"Dest_Arr_Count\", \"Month\"]\n",
    "features = [\"DayOfWeekEncoded\", \"Month\", \"DepTimeMinutes\", \"DepHour\", \"CRSDepTimeMinutes\", \"CRSDepHour\", \"ArrTimeMinutes\", \"ArrHour\", \"CRSArrTimeMinutes\", \"CRSArrHour\", \"Distance\", \"ActualElapsedTime\", \"CRSElapsedTime\", \"AirTime\", \"TaxiOut\", \"TaxiIn\", \"Origin_Dep_Count\", \"Dest_Arr_Count\"]\n",
    "features += [col for col in data.columns if col.startswith(\"UniqueCarrier_\")]"
   ],
   "metadata": {
    "collapsed": false
   },
   "id": "1f41f37e08da2c70"
  },
  {
   "cell_type": "code",
   "execution_count": null,
   "outputs": [],
   "source": [
    "scaler = StandardScaler()\n",
    "X_scaled = scaler.fit_transform(data[features])"
   ],
   "metadata": {
    "collapsed": false
   },
   "id": "7947d889a1cbd22c"
  },
  {
   "cell_type": "markdown",
   "source": [
    "wcss = []\n",
    "for i in range(1, 11):\n",
    "    kmeans = KMeans(n_clusters=i, random_state=777)\n",
    "    kmeans.fit(X_scaled)\n",
    "    wcss.append(kmeans.inertia_)\n",
    "    print(f\"WCSS for {i} clusters: \", kmeans.inertia_)"
   ],
   "metadata": {
    "collapsed": false
   },
   "id": "a87ef2ffaa1e3bb5"
  },
  {
   "cell_type": "markdown",
   "source": [
    "from sklearn.metrics import silhouette_score\n",
    "\n",
    "silhouette_scores = []\n",
    "for i in range(2, 11):\n",
    "    kmeans = KMeans(n_clusters=i, random_state=777)\n",
    "    cluster_labels = kmeans.fit_predict(X_scaled)\n",
    "    silhouette_avg = silhouette_score(X_scaled, cluster_labels)\n",
    "    silhouette_scores.append(silhouette_avg)\n",
    "    print(f\"Silhouette Score for {i} clusters: \", silhouette_avg)"
   ],
   "metadata": {
    "collapsed": false
   },
   "id": "e56af796a6be8267"
  },
  {
   "cell_type": "markdown",
   "source": [
    "plt.figure(figsize=(10, 6))\n",
    "plt.plot(range(1, 11), wcss, marker=\"o\")\n",
    "plt.title(\"Elbow Method\")\n",
    "plt.xlabel(\"Number of Clusters\")\n",
    "plt.ylabel(\"WCSS\")\n",
    "plt.savefig(r\"../figures/_kmeans_wcss.png\")\n",
    "plt.show()"
   ],
   "metadata": {
    "collapsed": false
   },
   "id": "e44eed80fb953225"
  },
  {
   "cell_type": "markdown",
   "source": [
    "plt.figure(figsize=(10, 6))\n",
    "plt.plot(range(2, 11), silhouette_scores, marker=\"o\")\n",
    "plt.title(\"Silhouette Scores\")\n",
    "plt.xlabel(\"Number of Clusters\")\n",
    "plt.ylabel(\"Silhouette Score\")\n",
    "plt.savefig(r\"../figures/_kmeans_silhouette_score.png\")\n",
    "plt.show()"
   ],
   "metadata": {
    "collapsed": false
   },
   "id": "72b2865be3dba7d3"
  },
  {
   "cell_type": "code",
   "execution_count": null,
   "outputs": [],
   "source": [
    "optimal_clusters = 4\n",
    "kmeans = KMeans(n_clusters=optimal_clusters, random_state=777)\n",
    "cluster_labels = kmeans.fit_predict(X_scaled)"
   ],
   "metadata": {
    "collapsed": false
   },
   "id": "11bbb3e1327cf074"
  },
  {
   "cell_type": "code",
   "execution_count": null,
   "outputs": [],
   "source": [
    "data[\"Cluster\"] = cluster_labels"
   ],
   "metadata": {
    "collapsed": false
   },
   "id": "a775295e2b88800f"
  },
  {
   "cell_type": "code",
   "execution_count": null,
   "outputs": [],
   "source": [
    "cluster_centers = scaler.inverse_transform(kmeans.cluster_centers_)\n",
    "cluster_centers_df = pd.DataFrame(cluster_centers, columns=features)\n",
    "\n",
    "print(\"Cluster Centers:\")\n",
    "print(cluster_centers_df)"
   ],
   "metadata": {
    "collapsed": false
   },
   "id": "a3010230626e8134"
  },
  {
   "cell_type": "code",
   "execution_count": null,
   "outputs": [],
   "source": [
    "plt.figure(figsize=(12, 6))\n",
    "sns.scatterplot(data=data, x=\"DepTimeMinutes\", y=\"ArrTimeMinutes\", hue=\"Cluster\", palette=\"viridis\")\n",
    "plt.title(\"Time of Departure vs Time of Arrival (in Minutes since Midnight)\")\n",
    "plt.xlabel(\"DepTimeMinutes\")\n",
    "plt.ylabel(\"ArrTimeMinutes\")\n",
    "plt.legend(title=\"Cluster\")\n",
    "plt.savefig(r\"../figures/_cluster_deptimeminutes_arrtimeminutes.png\")\n",
    "plt.show()"
   ],
   "metadata": {
    "collapsed": false
   },
   "id": "d635b44ef9f0bc46"
  },
  {
   "cell_type": "code",
   "execution_count": null,
   "outputs": [],
   "source": [
    "plt.figure(figsize=(12, 6))\n",
    "sns.scatterplot(data=data, x=\"Distance\", y=\"AirTime\", hue=\"Cluster\", palette=\"viridis\")\n",
    "plt.title(\"Distance vs AirTime\")\n",
    "plt.xlabel(\"Distance\")\n",
    "plt.ylabel(\"AirTime\")\n",
    "plt.legend(title=\"Cluster\")\n",
    "plt.savefig(r\"../figures/_cluster_distance_airtime.png\")\n",
    "plt.show()"
   ],
   "metadata": {
    "collapsed": false
   },
   "id": "dbdebe062f6fcca6"
  },
  {
   "cell_type": "code",
   "execution_count": null,
   "outputs": [],
   "source": [
    "plt.figure(figsize=(12, 6))\n",
    "sns.scatterplot(data=data, x=\"Distance\", y=\"ArrTimeMinutes\", hue=\"Cluster\", palette=\"viridis\")\n",
    "plt.title(\"Distance vs Time of Arrival (in Minutes since Midnight)\")\n",
    "plt.xlabel(\"Distance\")\n",
    "plt.ylabel(\"ArrTimeMinutes\")\n",
    "plt.legend(title=\"Cluster\")\n",
    "plt.savefig(r\"../figures/_cluster_distance_arrtimeminutes.png\")\n",
    "plt.show()"
   ],
   "metadata": {
    "collapsed": false
   },
   "id": "a374a957b69c8f2a"
  },
  {
   "cell_type": "code",
   "execution_count": null,
   "outputs": [],
   "source": [
    "plt.figure(figsize=(12, 6))\n",
    "sns.scatterplot(data=data, x=\"Distance\", y=\"DepTimeMinutes\", hue=\"Cluster\", palette=\"viridis\")\n",
    "plt.title(\"Distance vs Time of Departure (in Minutes since Midnight)\")\n",
    "plt.xlabel(\"Distance\")\n",
    "plt.ylabel(\"DepTimeMinutes\")\n",
    "plt.legend(title=\"Cluster\")\n",
    "plt.savefig(r\"../figures/_cluster_distance_deptimeminutes.png\")\n",
    "plt.show()"
   ],
   "metadata": {
    "collapsed": false
   },
   "id": "a0c8f8807d86fdd7"
  }
 ],
 "metadata": {
  "kernelspec": {
   "display_name": "Python 3",
   "language": "python",
   "name": "python3"
  },
  "language_info": {
   "codemirror_mode": {
    "name": "ipython",
    "version": 2
   },
   "file_extension": ".py",
   "mimetype": "text/x-python",
   "name": "python",
   "nbconvert_exporter": "python",
   "pygments_lexer": "ipython2",
   "version": "2.7.6"
  }
 },
 "nbformat": 4,
 "nbformat_minor": 5
}
