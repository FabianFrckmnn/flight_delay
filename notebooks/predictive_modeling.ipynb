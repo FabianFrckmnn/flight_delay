{
 "cells": [
  {
   "cell_type": "code",
   "execution_count": null,
   "id": "initial_id",
   "metadata": {
    "collapsed": true
   },
   "outputs": [],
   "source": [
    "import joblib\n",
    "\n",
    "import pandas as pd"
   ]
  },
  {
   "cell_type": "code",
   "execution_count": null,
   "outputs": [],
   "source": [
    "data = pd.read_csv(r\"../data/cleaned_data.csv\").sample(frac=0.2, random_state=777)"
   ],
   "metadata": {
    "collapsed": false
   },
   "id": "9ef2696a77ed6f60"
  },
  {
   "cell_type": "code",
   "execution_count": null,
   "outputs": [],
   "source": [
    "features  = [\"DayOfWeekEncoded\", \"Month\", \"CRSDepTimeMinutes\",  \"CRSArrTimeMinutes\",  \"Distance\",  \"CRSElapsedTime\",  \"FlightIDEncoded\",  \"TaxiOut\",  \"DepTimeMinutes_DayOfWeekEncoded\", \"CRSArrTimeMinutes_DayOfWeekEncoded\", \"Origin_Dep_Count\", \"Dest_Arr_Count\"]\n",
    "target = \"ArrDelay\"\n",
    "\n",
    "data = pd.get_dummies(data, columns=[\"UniqueCarrier\"], drop_first=True)\n",
    "features = features + [col for col in data.columns if col.startswith(\"UniqueCarrier_\")]"
   ],
   "metadata": {
    "collapsed": false
   },
   "id": "778257325b9bc562"
  },
  {
   "cell_type": "code",
   "execution_count": null,
   "outputs": [],
   "source": [
    "X = data[features]\n",
    "y = data[target]"
   ],
   "metadata": {
    "collapsed": false
   },
   "id": "d8d468424397f6c7"
  },
  {
   "cell_type": "code",
   "execution_count": null,
   "outputs": [],
   "source": [
    "model = joblib.load(r\"../models/random_forest_regressor_tuned_v3.pkl\")"
   ],
   "metadata": {
    "collapsed": false
   },
   "id": "57dce3b50a2ee6d3"
  },
  {
   "cell_type": "code",
   "execution_count": null,
   "outputs": [],
   "source": [
    "y_pred = model.predict(X)"
   ],
   "metadata": {
    "collapsed": false
   },
   "id": "9fff5068fee27248"
  },
  {
   "cell_type": "code",
   "execution_count": null,
   "outputs": [],
   "source": [
    "prediction_df = pd.concat([data, pd.DataFrame({\"Prediction\": y_pred})], axis=1)\n",
    "prediction_df"
   ],
   "metadata": {
    "collapsed": false
   },
   "id": "30a56c934f1e8610"
  }
 ],
 "metadata": {
  "kernelspec": {
   "display_name": "Python 3",
   "language": "python",
   "name": "python3"
  },
  "language_info": {
   "codemirror_mode": {
    "name": "ipython",
    "version": 2
   },
   "file_extension": ".py",
   "mimetype": "text/x-python",
   "name": "python",
   "nbconvert_exporter": "python",
   "pygments_lexer": "ipython2",
   "version": "2.7.6"
  }
 },
 "nbformat": 4,
 "nbformat_minor": 5
}
