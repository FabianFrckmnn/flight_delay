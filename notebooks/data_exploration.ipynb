{
 "cells": [
  {
   "cell_type": "code",
   "execution_count": null,
   "id": "initial_id",
   "metadata": {
    "collapsed": true
   },
   "outputs": [],
   "source": [
    "import pandas as pd\n",
    "import matplotlib.pyplot as plt\n",
    "import seaborn as sns"
   ]
  },
  {
   "cell_type": "code",
   "execution_count": null,
   "outputs": [],
   "source": [
    "data = pd.read_csv(r\"../data/cleaned_data.csv\")"
   ],
   "metadata": {
    "collapsed": false
   },
   "id": "863b965e999edd6"
  },
  {
   "cell_type": "code",
   "execution_count": null,
   "outputs": [],
   "source": [
    "sns.set(style=\"whitegrid\")"
   ],
   "metadata": {
    "collapsed": false
   },
   "id": "8f53c4a7b13b5b50"
  },
  {
   "cell_type": "code",
   "execution_count": null,
   "outputs": [],
   "source": [
    "print(data.describe())"
   ],
   "metadata": {
    "collapsed": false
   },
   "id": "3beb43fd6a6e3615"
  },
  {
   "cell_type": "code",
   "execution_count": null,
   "outputs": [],
   "source": [
    "numerical_features = [\"DayOfWeekEncoded\", \"Month\", \"DepTimeMinutes\", \"DepHour\", \"CRSDepTimeMinutes\", \"CRSDepHour\", \"ArrTimeMinutes\", \"ArrHour\", \"CRSArrTimeMinutes\", \"CRSArrHour\", \"Distance\", \"ActualElapsedTime\", \"CRSElapsedTime\", \"AirTime\", \"TaxiOut\", \"TaxiIn\", \"Origin_Dep_Count\", \"Dest_Arr_Count\"]\n",
    "print(data[numerical_features].describe())"
   ],
   "metadata": {
    "collapsed": false
   },
   "id": "1905ae56cf207d0a"
  },
  {
   "cell_type": "code",
   "execution_count": null,
   "outputs": [],
   "source": [
    "delay_features = [\"DepDelay\", \"ArrDelay\", \"CarrierDelay\", \"NonCarrierDelay\", \"WeatherDelay\", \"NASDelay\", \"SecurityDelay\", \"LateAircraftDelay\"]\n",
    "print(data[delay_features].describe())"
   ],
   "metadata": {
    "collapsed": false
   },
   "id": "30d66d13db1e0917"
  },
  {
   "cell_type": "code",
   "execution_count": null,
   "outputs": [],
   "source": [
    "categorical_features = [\"DayOfWeek\", \"UniqueCarrier\", \"Origin\", \"Dest\", \"FlightID\"]\n",
    "print(data[categorical_features].describe())"
   ],
   "metadata": {
    "collapsed": false
   },
   "id": "dc260cdea24a3efe"
  },
  {
   "cell_type": "code",
   "execution_count": null,
   "outputs": [],
   "source": [
    "plt.figure(figsize=(25, 20))\n",
    "for i, feature in enumerate(numerical_features, 1):\n",
    "    plt.subplot(6, 3, i)\n",
    "    sns.histplot(data[feature], kde=True)\n",
    "    plt.title(f\"Distribution of {feature}\")\n",
    "plt.tight_layout()\n",
    "plt.savefig(r\"../figures/numerical_features_histogram.png\")\n",
    "plt.show()"
   ],
   "metadata": {
    "collapsed": false
   },
   "id": "51603f7ef883d38f"
  },
  {
   "cell_type": "code",
   "execution_count": null,
   "outputs": [],
   "source": [
    "plt.figure(figsize=(15, 10))\n",
    "for i, feature in enumerate(delay_features, 1):\n",
    "    plt.subplot(2, 4, i)\n",
    "    sns.histplot(data[feature], kde=True)\n",
    "    plt.title(f\"Distribution of {feature}\")\n",
    "plt.tight_layout()\n",
    "plt.savefig(r\"../figures/delay_features_histogram.png\")\n",
    "plt.show()"
   ],
   "metadata": {
    "collapsed": false
   },
   "id": "8d03c5117c803332"
  },
  {
   "cell_type": "code",
   "execution_count": null,
   "outputs": [],
   "source": [
    "days_order = [\"MON\", \"TUE\", \"WED\", \"THU\", \"FRI\", \"SAT\", \"SUN\"]\n",
    "data[\"DayOfWeek\"] = pd.Categorical(data[\"DayOfWeek\"], categories=days_order, ordered=True)\n",
    "\n",
    "plt.figure(figsize=(12, 5))\n",
    "sns.countplot(data=data, x=\"DayOfWeek\", order=days_order)\n",
    "plt.title(\"Flights by Day of Week\")\n",
    "plt.xlabel(\"Day of the Week\")\n",
    "plt.ylabel(\"Flight Count\")\n",
    "plt.savefig(r\"../figures/flights_per_day_countplot.png\")\n",
    "plt.show()"
   ],
   "metadata": {
    "collapsed": false
   },
   "id": "a0e9339e853f8bdf"
  },
  {
   "cell_type": "code",
   "execution_count": null,
   "outputs": [],
   "source": [
    "plt.figure(figsize=(12, 5))\n",
    "sns.countplot(data=data, x=\"UniqueCarrier\", order=sorted(data[\"UniqueCarrier\"].unique()))\n",
    "plt.title(\"Flights by Carrier\")\n",
    "plt.xlabel(\"Carrier\")\n",
    "plt.ylabel(\"Flight Count\")\n",
    "plt.xticks(rotation=90)\n",
    "plt.savefig(r\"../figures/flights_per_carrier_countplot.png\")\n",
    "plt.show()"
   ],
   "metadata": {
    "collapsed": false
   },
   "id": "b436fb1522c56cf1"
  },
  {
   "cell_type": "code",
   "execution_count": null,
   "outputs": [],
   "source": [
    "categorical_columns = [\"Origin\", \"Dest\"]\n",
    "plt.figure(figsize=(15, 10))\n",
    "for i, col in enumerate(categorical_columns, 1):\n",
    "    plt.subplot(2, 2, i)\n",
    "    top_10 = data[col].value_counts().head(10)\n",
    "    sns.barplot(x=top_10.index, y=top_10.values)\n",
    "    plt.title(f\"Top 10 Most Common {col}\")\n",
    "    plt.xlabel(col)\n",
    "    plt.ylabel(\"Count\")\n",
    "    plt.xticks(rotation=45)\n",
    "plt.tight_layout()\n",
    "plt.savefig(rf\"../figures/most_common_dest_origin_barplot.png\")\n",
    "plt.show()"
   ],
   "metadata": {
    "collapsed": false
   },
   "id": "14b586d02bb699d0"
  },
  {
   "cell_type": "code",
   "execution_count": null,
   "outputs": [],
   "source": [
    "categorical_columns = [\"Origin\", \"Dest\"]\n",
    "plt.figure(figsize=(15, 10))\n",
    "for i, col in enumerate(categorical_columns, 1):\n",
    "    plt.subplot(2, 2, i)\n",
    "    bot_10 = data[col].value_counts().tail(10)\n",
    "    sns.barplot(x=bot_10.index, y=bot_10.values)\n",
    "    plt.title(f\"Top 10 Least Common {col}\")\n",
    "    plt.xlabel(col)\n",
    "    plt.ylabel(\"Count\")\n",
    "    plt.xticks(rotation=45)\n",
    "plt.tight_layout()\n",
    "plt.savefig(rf\"../figures/least_common_dest_origin_barplot.png\")\n",
    "plt.show()"
   ],
   "metadata": {
    "collapsed": false
   },
   "id": "9c173752b3e3f99d"
  },
  {
   "cell_type": "code",
   "execution_count": null,
   "outputs": [],
   "source": [
    "plt.figure(figsize=(12, 5))\n",
    "sns.histplot(data[\"ArrDelay\"], kde=True, bins=30)\n",
    "plt.title(\"Distribution of Arrival Delays\")\n",
    "plt.xlabel(\"Arrival Delay (minutes)\")\n",
    "plt.ylabel(\"Frequency\")\n",
    "plt.savefig(r\"../figures/arr_delay_histogram.png\")\n",
    "plt.show()"
   ],
   "metadata": {
    "collapsed": false
   },
   "id": "345230f76b2f1791"
  },
  {
   "cell_type": "code",
   "execution_count": null,
   "outputs": [],
   "source": [
    "plt.figure(figsize=(12, 5))\n",
    "sns.boxplot(data=data[delay_features])\n",
    "plt.title(\"Box Plot of Delay Types\")\n",
    "plt.ylabel(\"Delay Time (minutes)\")\n",
    "plt.xticks(rotation=45)\n",
    "plt.savefig(r\"../figures/delay_types_boxplot.png\")\n",
    "plt.show()"
   ],
   "metadata": {
    "collapsed": false
   },
   "id": "6708ff4ab0e8101b"
  },
  {
   "cell_type": "code",
   "execution_count": null,
   "outputs": [],
   "source": [
    "plt.figure(figsize=(12, 5))\n",
    "sns.histplot(data[\"DepTimeMinutes_DayOfWeekEncoded\"], kde=True, bins=50)\n",
    "plt.title(\"Distribution of DepHour_DayOfWeek Interaction\")\n",
    "plt.xlabel(\"DepHour_DayOfWeek\")\n",
    "plt.ylabel(\"Count\")\n",
    "plt.savefig(r\"../figures/dep_hour_day_histogram.png\")\n",
    "plt.show()"
   ],
   "metadata": {
    "collapsed": false
   },
   "id": "fd1a3e3a7b922dd8"
  },
  {
   "cell_type": "code",
   "execution_count": null,
   "outputs": [],
   "source": [
    "plt.figure(figsize=(12, 5))\n",
    "sns.histplot(data[\"CRSArrTimeMinutes_DayOfWeekEncoded\"], kde=True, bins=50)\n",
    "plt.title(\"Distribution of CRSArrHour_DayOfWeek Interaction\")\n",
    "plt.xlabel(\"CRSArrHour_DayOfWeek\")\n",
    "plt.ylabel(\"Count\")\n",
    "plt.savefig(r\"../figures/crs_arr_hour_day_histogram.png\")\n",
    "plt.show()"
   ],
   "metadata": {
    "collapsed": false
   },
   "id": "ed9cee36ef1616b0"
  },
  {
   "cell_type": "code",
   "execution_count": null,
   "outputs": [],
   "source": [
    "plt.figure(figsize=(12, 5))\n",
    "sns.histplot(data[\"Origin_Dep_Count\"], kde=True, bins=50)\n",
    "plt.title(\"Distribution of Origin Departure Counts\")\n",
    "plt.xlabel(\"Origin_Dep_Count\")\n",
    "plt.ylabel(\"Count\")\n",
    "plt.savefig(r\"../figures/origin_dep_counts_histogram.png\")\n",
    "plt.show()"
   ],
   "metadata": {
    "collapsed": false
   },
   "id": "980789faf5a512ef"
  },
  {
   "cell_type": "code",
   "execution_count": null,
   "outputs": [],
   "source": [
    "plt.figure(figsize=(12, 5))\n",
    "sns.histplot(data[\"Dest_Arr_Count\"], kde=True, bins=50)\n",
    "plt.title(\"Distribution of Destination Arrival Counts\")\n",
    "plt.xlabel(\"Dest_Arr_Count\")\n",
    "plt.ylabel(\"Count\")\n",
    "plt.savefig(r\"../figures/dest_arr_counts_histogram.png\")\n",
    "plt.show()"
   ],
   "metadata": {
    "collapsed": false
   },
   "id": "df6e07794b62e084"
  },
  {
   "cell_type": "code",
   "execution_count": null,
   "outputs": [],
   "source": [
    "plt.figure(figsize=(12, 5))\n",
    "sns.boxplot(data=data, x=\"Month\", y=\"ArrDelay\")\n",
    "plt.title(\"Arrival Delays by Month\")\n",
    "plt.xlabel(\"Month\")\n",
    "plt.ylabel(\"Arrival Delay (minutes)\")\n",
    "plt.savefig(r\"../figures/arr_delay_month_boxplot.png\")\n",
    "plt.show()"
   ],
   "metadata": {
    "collapsed": false
   },
   "id": "fd82183de14f3303"
  },
  {
   "cell_type": "code",
   "execution_count": null,
   "outputs": [],
   "source": [
    "plt.figure(figsize=(12, 5))\n",
    "sns.scatterplot(x=\"Distance\", y=\"AirTime\", data=data, alpha=0.5)\n",
    "plt.title(\"Relation of Distance and Airtime\")\n",
    "plt.xlabel(\"Distance (miles)\")\n",
    "plt.ylabel(\"AirTime (minutes)\")\n",
    "plt.grid(True)\n",
    "plt.savefig(r\"../figures/distance_vs_airtime_scatter.png\")\n",
    "plt.show()"
   ],
   "metadata": {
    "collapsed": false
   },
   "id": "2b7d83dc929767cc"
  },
  {
   "cell_type": "code",
   "execution_count": null,
   "outputs": [],
   "source": [
    "correlation_matrix = data[numerical_features + delay_features].corr()\n",
    "plt.figure(figsize=(30, 20))\n",
    "sns.heatmap(correlation_matrix, annot=True, fmt=\".2f\", cmap=\"coolwarm\", cbar=True)\n",
    "plt.title(\"Correlation Matrix\")\n",
    "plt.savefig(r\"../figures/correlation_matrix.png\")\n",
    "plt.show()"
   ],
   "metadata": {
    "collapsed": false
   },
   "id": "f9c7bdf52f792ab9"
  }
 ],
 "metadata": {
  "kernelspec": {
   "display_name": "Python 3",
   "language": "python",
   "name": "python3"
  },
  "language_info": {
   "codemirror_mode": {
    "name": "ipython",
    "version": 2
   },
   "file_extension": ".py",
   "mimetype": "text/x-python",
   "name": "python",
   "nbconvert_exporter": "python",
   "pygments_lexer": "ipython2",
   "version": "2.7.6"
  }
 },
 "nbformat": 4,
 "nbformat_minor": 5
}
