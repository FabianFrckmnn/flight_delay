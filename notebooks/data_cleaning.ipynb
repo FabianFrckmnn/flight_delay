{
 "cells": [
  {
   "cell_type": "code",
   "execution_count": null,
   "outputs": [],
   "source": [
    "import pandas as pd\n",
    "\n",
    "from sklearn.preprocessing import LabelEncoder, PolynomialFeatures"
   ],
   "metadata": {
    "collapsed": false
   },
   "id": "512d1492a50b5653"
  },
  {
   "cell_type": "code",
   "execution_count": null,
   "outputs": [],
   "source": [
    "label_encoder = LabelEncoder()\n",
    "poly = PolynomialFeatures(degree=2, interaction_only=True, include_bias=False)"
   ],
   "metadata": {
    "collapsed": false
   },
   "id": "dcb72f4d16c677ae"
  },
  {
   "cell_type": "code",
   "execution_count": null,
   "outputs": [],
   "source": [
    "raw_df = pd.read_csv(r\"../data/flight_delay.csv\")\n",
    "raw_df"
   ],
   "metadata": {
    "collapsed": false
   },
   "id": "98796d2cbfb6139d"
  },
  {
   "cell_type": "code",
   "execution_count": null,
   "outputs": [],
   "source": [
    "missing_values = raw_df.isna().sum()\n",
    "print(\"Missing values per columns:\\n\", missing_values)"
   ],
   "metadata": {
    "collapsed": false
   },
   "id": "f9b60bd5fa3cffa0"
  },
  {
   "cell_type": "code",
   "execution_count": null,
   "outputs": [],
   "source": [
    "raw_df = raw_df.dropna(subset=[\"Org_Airport\", \"Dest_Airport\"])"
   ],
   "metadata": {
    "collapsed": false
   },
   "id": "2078621a47b05a6a"
  },
  {
   "cell_type": "code",
   "execution_count": null,
   "outputs": [],
   "source": [
    "raw_df[\"DepDate\"] = pd.to_datetime(raw_df[\"Date\"], dayfirst=True)\n",
    "raw_df = raw_df.drop(columns=[\"Date\"])"
   ],
   "metadata": {
    "collapsed": false
   },
   "id": "fafb56aaa3c64481"
  },
  {
   "cell_type": "code",
   "execution_count": null,
   "outputs": [],
   "source": [
    "def process_time_column(df, col_name, date_col):\n",
    "    df[col_name] = df[col_name].apply(lambda x: str(x).zfill(4))\n",
    "    df[col_name] = df[date_col].astype(str) + \" \" + df[col_name]\n",
    "    df[col_name] = pd.to_datetime(df[col_name], format=\"%Y-%m-%d %H%M\", errors=\"coerce\")\n",
    "    return df[col_name]\n",
    "\n",
    "raw_df[\"DepTime\"] = process_time_column(raw_df, \"DepTime\", \"DepDate\")\n",
    "raw_df[\"ArrTime\"] = raw_df.apply(lambda x: x[\"DepTime\"] + pd.offsets.Minute(x[\"ActualElapsedTime\"]), axis=1)\n",
    "raw_df[\"ArrDate\"] = raw_df[\"ArrTime\"].dt.date\n",
    "raw_df[\"CRSArrTime\"] = process_time_column(raw_df, \"CRSArrTime\", \"ArrDate\")\n",
    "raw_df[\"CRSDepTime\"] = raw_df.apply(lambda x: x[\"CRSArrTime\"] - pd.offsets.Minute(x[\"CRSElapsedTime\"]), axis=1)"
   ],
   "metadata": {
    "collapsed": false
   },
   "id": "b67376cbd35d5f76"
  },
  {
   "cell_type": "code",
   "execution_count": null,
   "outputs": [],
   "source": [
    "raw_df[\"DepHour\"] = raw_df[\"DepTime\"].dt.hour\n",
    "raw_df[\"DepTimeMinutes\"] = raw_df[\"DepTime\"].dt.hour * 60 + raw_df[\"DepTime\"].dt.minute\n",
    "raw_df[\"CRSDepHour\"] = raw_df[\"CRSDepTime\"].dt.hour\n",
    "raw_df[\"CRSDepTimeMinutes\"] = raw_df[\"CRSDepTime\"].dt.hour * 60 + raw_df[\"CRSDepTime\"].dt.minute\n",
    "raw_df[\"ArrHour\"] = raw_df[\"ArrTime\"].dt.hour\n",
    "raw_df[\"ArrTimeMinutes\"] = raw_df[\"ArrTime\"].dt.hour * 60 + raw_df[\"ArrTime\"].dt.minute\n",
    "raw_df[\"CRSArrHour\"] = raw_df[\"CRSArrTime\"].dt.hour\n",
    "raw_df[\"CRSArrTimeMinutes\"] = raw_df[\"CRSArrTime\"].dt.hour * 60 + raw_df[\"CRSArrTime\"].dt.minute"
   ],
   "metadata": {
    "collapsed": false
   },
   "id": "7b43e736a6a1aa69"
  },
  {
   "cell_type": "code",
   "execution_count": null,
   "outputs": [],
   "source": [
    "day_map = {1: \"MON\", 2: \"TUE\", 3: \"WED\", 4: \"THU\", 5: \"FRI\", 6: \"SAT\", 7: \"SUN\"}\n",
    "raw_df[\"DayOfWeekEncoded\"] = raw_df[\"DayOfWeek\"].replace(to_replace=7, value=0)\n",
    "raw_df[\"DayOfWeek\"] = raw_df[\"DayOfWeek\"].replace(day_map)"
   ],
   "metadata": {
    "collapsed": false
   },
   "id": "cd7c1bf81ce02c8f"
  },
  {
   "cell_type": "code",
   "execution_count": null,
   "outputs": [],
   "source": [
    "raw_df[\"Month\"] = raw_df[\"DepDate\"].dt.month"
   ],
   "metadata": {
    "collapsed": false
   },
   "id": "67d6130a1fc6927b"
  },
  {
   "cell_type": "code",
   "execution_count": null,
   "outputs": [],
   "source": [
    "raw_df[\"NonCarrierDelay\"] = raw_df[\"WeatherDelay\"] + raw_df[\"NASDelay\"] + raw_df[\"SecurityDelay\"] + raw_df[\"LateAircraftDelay\"]\n",
    "raw_df[\"FlightID\"] = raw_df[\"UniqueCarrier\"] + raw_df[\"FlightNum\"].astype(str)\n",
    "raw_df[\"FlightIDEncoded\"] = label_encoder.fit_transform(raw_df[\"FlightID\"])"
   ],
   "metadata": {
    "collapsed": false
   },
   "id": "539bc792fd803d0f"
  },
  {
   "cell_type": "code",
   "execution_count": null,
   "outputs": [],
   "source": [
    "raw_df[\"Origin_Dep_Count\"] = raw_df.groupby([\"Origin\", \"DepDate\", \"CRSDepHour\"])[\"FlightNum\"].transform(\"count\")\n",
    "raw_df[\"Dest_Arr_Count\"] = raw_df.groupby([\"Dest\", \"ArrDate\", \"CRSArrHour\"])[\"FlightNum\"].transform(\"count\")"
   ],
   "metadata": {
    "collapsed": false
   },
   "id": "db7a6cfd64af4c22"
  },
  {
   "cell_type": "code",
   "execution_count": null,
   "outputs": [],
   "source": [
    "raw_df = raw_df.dropna(subset=[\"DepTime\", \"ArrTime\", \"DepHour\", \"ArrHour\", \"Origin_Dep_Count\", \"Dest_Arr_Count\"])"
   ],
   "metadata": {
    "collapsed": false
   },
   "id": "9e285362192fd23f"
  },
  {
   "cell_type": "code",
   "execution_count": null,
   "outputs": [],
   "source": [
    "def poly_transform(df, columns: list):\n",
    "    interaction_features = poly.fit_transform(df[columns])\n",
    "    interaction_df = pd.DataFrame(interaction_features, columns=poly.get_feature_names_out(columns))\n",
    "    interaction_df.rename(columns={f\"{columns[0]} {columns[1]}\": f\"{columns[0]}_{columns[1]}\"}, inplace=True)\n",
    "    return interaction_df[f\"{columns[0]}_{columns[1]}\"]\n",
    "\n",
    "dep_day_df =  poly_transform(raw_df, [\"DepTimeMinutes\", \"DayOfWeekEncoded\"])\n",
    "arr_day_df = poly_transform(raw_df, [\"CRSArrTimeMinutes\", \"DayOfWeekEncoded\"])\n",
    "raw_df = pd.concat([raw_df, dep_day_df, arr_day_df], axis=1)"
   ],
   "metadata": {
    "collapsed": false
   },
   "id": "9f315fcd3178bedd"
  },
  {
   "cell_type": "code",
   "execution_count": null,
   "outputs": [],
   "source": [
    "raw_df = raw_df.drop_duplicates(inplace=False)"
   ],
   "metadata": {
    "collapsed": false
   },
   "id": "b6719bbe4bcdf9c8"
  },
  {
   "cell_type": "code",
   "execution_count": null,
   "outputs": [],
   "source": [
    "raw_df = raw_df.dropna(subset=[\"DepTime\", \"ArrTime\", \"DepHour\", \"ArrHour\", \"DepTimeMinutes_DayOfWeekEncoded\", \"CRSArrTimeMinutes_DayOfWeekEncoded\", \"Origin_Dep_Count\", \"Dest_Arr_Count\"])"
   ],
   "metadata": {
    "collapsed": false
   },
   "id": "77407925639d42ae"
  },
  {
   "cell_type": "code",
   "execution_count": null,
   "outputs": [],
   "source": [
    "missing_values = raw_df.isna().sum()\n",
    "print(\"Missing values per columns:\\n\", missing_values)"
   ],
   "metadata": {
    "collapsed": false
   },
   "id": "6ce8df7992ab46d8"
  },
  {
   "cell_type": "code",
   "execution_count": null,
   "outputs": [],
   "source": [
    "column_order = [\"DayOfWeek\", \"DayOfWeekEncoded\", \"Month\", \"DepDate\", \"DepTime\", \"DepTimeMinutes\", \"DepHour\", \"CRSDepTime\", \"CRSDepTimeMinutes\", \"CRSDepHour\", \"ArrDate\", \"ArrTime\", \"ArrTimeMinutes\", \"ArrHour\", \"CRSArrTime\", \"CRSArrTimeMinutes\", \"CRSArrHour\", \"Distance\", \"ActualElapsedTime\", \"CRSElapsedTime\", \"AirTime\", \"UniqueCarrier\", \"FlightNum\", \"FlightID\", \"FlightIDEncoded\", \"Airline\", \"TailNum\", \"Origin\", \"Org_Airport\", \"Dest\", \"Dest_Airport\", \"TaxiOut\", \"TaxiIn\", \"Cancelled\", \"CancellationCode\", \"Diverted\", \"DepDelay\", \"ArrDelay\", \"CarrierDelay\", \"NonCarrierDelay\", \"WeatherDelay\", \"NASDelay\", \"SecurityDelay\", \"LateAircraftDelay\", \"DepTimeMinutes_DayOfWeekEncoded\", \"CRSArrTimeMinutes_DayOfWeekEncoded\", \"Origin_Dep_Count\", \"Dest_Arr_Count\"]\n",
    "ordered_df = raw_df[column_order]"
   ],
   "metadata": {
    "collapsed": false
   },
   "id": "8493027bf39f8aa6"
  },
  {
   "cell_type": "code",
   "execution_count": null,
   "outputs": [],
   "source": [
    "ordered_df.to_csv(r\"../data/cleaned_data.csv\", index=False)"
   ],
   "metadata": {
    "collapsed": false
   },
   "id": "7f553e35128becff"
  },
  {
   "cell_type": "code",
   "execution_count": null,
   "outputs": [],
   "source": [
    "ordered_df"
   ],
   "metadata": {
    "collapsed": false
   },
   "id": "1321c6fd302317a"
  }
 ],
 "metadata": {
  "kernelspec": {
   "display_name": "Python 3",
   "language": "python",
   "name": "python3"
  },
  "language_info": {
   "codemirror_mode": {
    "name": "ipython",
    "version": 2
   },
   "file_extension": ".py",
   "mimetype": "text/x-python",
   "name": "python",
   "nbconvert_exporter": "python",
   "pygments_lexer": "ipython2",
   "version": "2.7.6"
  }
 },
 "nbformat": 4,
 "nbformat_minor": 5
}
