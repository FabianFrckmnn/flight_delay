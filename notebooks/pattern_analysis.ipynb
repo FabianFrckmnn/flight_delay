{
 "cells": [
  {
   "cell_type": "code",
   "execution_count": null,
   "id": "initial_id",
   "metadata": {
    "collapsed": true
   },
   "outputs": [],
   "source": [
    "import joblib\n",
    "\n",
    "import numpy as np\n",
    "import pandas as pd\n",
    "\n",
    "from sklearn.model_selection import train_test_split,GridSearchCV\n",
    "from sklearn.preprocessing import LabelEncoder\n",
    "from sklearn.ensemble import RandomForestRegressor\n",
    "from sklearn.metrics import mean_absolute_error, mean_squared_error, r2_score"
   ]
  },
  {
   "cell_type": "code",
   "execution_count": null,
   "outputs": [],
   "source": [
    "data = pd.read_csv(r\"../data/cleaned_data.csv\")\n",
    "data"
   ],
   "metadata": {
    "collapsed": false
   },
   "id": "3177f146dca39531"
  },
  {
   "cell_type": "code",
   "execution_count": null,
   "outputs": [],
   "source": [
    "features  = [\"DayOfWeekEncoded\", \"Month\", \"CRSDepTimeMinutes\",  \"CRSArrTimeMinutes\",  \"Distance\",  \"CRSElapsedTime\",  \"FlightIDEncoded\",  \"TaxiOut\",  \"DepTimeMinutes_DayOfWeekEncoded\", \"CRSArrTimeMinutes_DayOfWeekEncoded\", \"Origin_Dep_Count\", \"Dest_Arr_Count\"]\n",
    "target = \"ArrDelay\"\n",
    "\n",
    "data = pd.get_dummies(data, columns=[\"UniqueCarrier\"], drop_first=True)"
   ],
   "metadata": {
    "collapsed": false
   },
   "id": "f1aed484bce4da5"
  },
  {
   "cell_type": "code",
   "execution_count": null,
   "outputs": [],
   "source": [
    "features = features + [col for col in data.columns if col.startswith(\"UniqueCarrier_\")]\n",
    "X = data[features]\n",
    "y = data[target]\n",
    "X_train, X_test, y_train, y_test = train_test_split(X, y, test_size=0.2, random_state=777)"
   ],
   "metadata": {
    "collapsed": false
   },
   "id": "f86f88512a38de9a"
  },
  {
   "cell_type": "code",
   "execution_count": null,
   "outputs": [],
   "source": [
    "model = RandomForestRegressor(random_state=777)\n",
    "param_grid = {\n",
    "    \"n_estimators\": [100, 200, 300],\n",
    "    \"max_depth\": [10, 20, None],\n",
    "    \"min_samples_split\": [2, 5, 10],\n",
    "    \"min_samples_leaf\": [1, 2, 4],\n",
    "    \"bootstrap\": [True, False]\n",
    "}\n",
    "\n",
    "grid_search = GridSearchCV(estimator=model, param_grid=param_grid, cv=3, n_jobs=-1, verbose=2)\n",
    "\n",
    "with joblib.parallel_backend(\"threading\"):\n",
    "    grid_search.fit(X_train, y_train)\n",
    "\n",
    "joblib.dump(grid_search.best_estimator_, r\"../models/grid_search_best_estimator_v3.pkl\")"
   ],
   "metadata": {
    "collapsed": false
   },
   "id": "2f388b5ab8589ebe"
  },
  {
   "cell_type": "code",
   "execution_count": null,
   "outputs": [],
   "source": [
    "best_model = joblib.load(r\"../models/grid_search_best_estimator_v3.pkl\")"
   ],
   "metadata": {
    "collapsed": false
   },
   "id": "835afecb422dd4ab"
  },
  {
   "cell_type": "code",
   "execution_count": null,
   "outputs": [],
   "source": [
    "best_model.fit(X_train, y_train)"
   ],
   "metadata": {
    "collapsed": false
   },
   "id": "3e526b95d89ebd43"
  },
  {
   "cell_type": "code",
   "execution_count": null,
   "outputs": [],
   "source": [
    "y_pred = best_model.predict(X_test)\n",
    "mae = mean_absolute_error(y_test, y_pred)\n",
    "mse = mean_squared_error(y_test, y_pred)\n",
    "rmse = np.sqrt(mse)\n",
    "r2 = r2_score(y_test, y_pred)\n",
    "\n",
    "print(f\"Mean Absolute Error (MAE): {mae}\")\n",
    "print(f\"Mean Squared Error (MSE): {mse}\")\n",
    "print(f\"Root Mean Squared Error (RMSE): {rmse}\")\n",
    "print(f\"R2 Score: {r2}\")"
   ],
   "metadata": {
    "collapsed": false
   },
   "id": "360598b3be96029f"
  },
  {
   "cell_type": "code",
   "execution_count": null,
   "outputs": [],
   "source": [
    "feature_importance = pd.Series(best_model.feature_importances_, index=X_train.columns).sort_values(ascending=False)\n",
    "print(\"Feature Importance:\\n\", feature_importance)"
   ],
   "metadata": {
    "collapsed": false
   },
   "id": "affa83bd957ffc4d"
  },
  {
   "cell_type": "code",
   "execution_count": null,
   "outputs": [],
   "source": [
    "joblib.dump(best_model, r\"../models/random_forest_regressor_tuned_v3.pkl\")"
   ],
   "metadata": {
    "collapsed": false
   },
   "id": "421850fadde1d857"
  }
 ],
 "metadata": {
  "kernelspec": {
   "display_name": "Python 3",
   "language": "python",
   "name": "python3"
  },
  "language_info": {
   "codemirror_mode": {
    "name": "ipython",
    "version": 2
   },
   "file_extension": ".py",
   "mimetype": "text/x-python",
   "name": "python",
   "nbconvert_exporter": "python",
   "pygments_lexer": "ipython2",
   "version": "2.7.6"
  }
 },
 "nbformat": 4,
 "nbformat_minor": 5
}
